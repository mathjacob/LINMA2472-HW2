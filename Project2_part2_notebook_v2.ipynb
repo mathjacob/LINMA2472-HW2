{
 "cells": [
  {
   "cell_type": "markdown",
   "metadata": {},
   "source": [
    "<h1><center>LINMA2472 : Project 2 - part 2, Random Fourier Features </center></h1>\n",
    "\n",
    "$\\textbf{Author}$: Remi Delogne, remi.delogne@uclouvain.be\n",
    "\n",
    "$\\textbf{Completed by}$: Anthony Gerlache, Mathieu Jacob, Vladislav Kucheriavykh (Group 3)"
   ]
  },
  {
   "cell_type": "markdown",
   "metadata": {},
   "source": [
    "Import the following packages and functions. Refer to their documentation on the internet for more information on installation and usage.\n"
   ]
  },
  {
   "cell_type": "code",
   "execution_count": 1,
   "metadata": {},
   "outputs": [
    {
     "data": {
      "text/html": [
       "<style>.container { width:80% !important; }</style>"
      ],
      "text/plain": [
       "<IPython.core.display.HTML object>"
      ]
     },
     "metadata": {},
     "output_type": "display_data"
    }
   ],
   "source": [
    "import numpy as np\n",
    "from sklearn import preprocessing\n",
    "from sklearn.model_selection import train_test_split\n",
    "from sklearn import datasets, svm\n",
    "from sklearn.svm import LinearSVC\n",
    "from sklearn import metrics\n",
    "from sklearn.metrics import accuracy_score\n",
    "\n",
    "from keras.datasets import mnist #Contains the dataset\n",
    "from matplotlib. import pyplot\n",
    "\n",
    "import time #Used to find the execution time of a part of the code\n",
    "\n",
    "from IPython.display import display, HTML #For visual comfort\n",
    "display(HTML(\"<style>.container { width:80% !important; }</style>\"))"
   ]
  },
  {
   "cell_type": "code",
   "execution_count": 2,
   "metadata": {},
   "outputs": [
    {
     "data": {
      "image/png": "[encoded data removed]",
      "text/plain": [
       "<Figure size 432x288 with 9 Axes>"
      ]
     },
     "metadata": {
      "needs_background": "light"
     },
     "output_type": "display_data"
    },
    {
     "name": "stdout",
     "output_type": "stream",
     "text": [
      "(10000, 784)\n"
     ]
    }
   ],
   "source": [
    "# load dataset and rescale the data to [0,15]\n",
    "''' load dataset: (we use the larger subset for testing and the smaller \n",
    "for training to demonstrate the efficiency of evaluating of new instances with RFF)'''\n",
    "(testX,testy),(trainX,trainy) = mnist.load_data()\n",
    "#Rescaling\n",
    "trainX = np.floor(trainX/16)\n",
    "testX = np.floor(testX/16)\n",
    "\n",
    "#Plot some images, for fun\n",
    "for i in range(9):\n",
    "    pyplot.subplot(330+1+i)\n",
    "    pyplot.imshow(trainX[i], cmap=pyplot.get_cmap('gray'))\n",
    "pyplot.show()\n",
    "\n",
    "#Put the data in vector form\n",
    "trainX=trainX.reshape((10000,-1))\n",
    "testX=testX.reshape((60000,-1))\n",
    "print(trainX.shape)"
   ]
  },
  {
   "cell_type": "markdown",
   "metadata": {},
   "source": [
    "### Use the *time* package functions to time the executions of parts of your code:"
   ]
  },
  {
   "cell_type": "code",
   "execution_count": 38,
   "metadata": {},
   "outputs": [
    {
     "name": "stdout",
     "output_type": "stream",
     "text": [
      "Total time: 0.097 seconds\n"
     ]
    }
   ],
   "source": [
    "#Example of timing a piece of code\n",
    "tik=time.perf_counter() # Start\n",
    "for i in range (1000000):\n",
    "    i=i+1\n",
    "tok=time.perf_counter() # Finish\n",
    "print(f'Total time: {tok-tik:.3f} seconds')#prints the result to 3 decimal places"
   ]
  },
  {
   "cell_type": "markdown",
   "metadata": {},
   "source": [
    "### Train a linear SVM on the training data and evaluate it on the testing data\n",
    "Use the tik-tok method to see how long the classifier takes to evaluate the 60.000 testing instances.\n",
    "\n",
    "Use the accuracy metric to judge the quality of your classifier."
   ]
  },
  {
   "cell_type": "code",
   "execution_count": 39,
   "metadata": {},
   "outputs": [
    {
     "name": "stdout",
     "output_type": "stream",
     "text": [
      "Training finished in 5.337 seconds,\n",
      "Testing Finished in 41.304 seconds with accuracy of 0.907.\n"
     ]
    }
   ],
   "source": [
    "#Define the classifier\n",
    "clfLin=svm.SVC(kernel=\"linear\")\n",
    "\n",
    "#Train the classifier\n",
    "tik = time.perf_counter() # Start measuring training time\n",
    "clfLin.fit(trainX,trainy)\n",
    "tok = time.perf_counter() # Stop measuring training time\n",
    "linear_training_time = tok - tik\n",
    "\n",
    "#Evaluate its accuracy\n",
    "tik = time.perf_counter()\n",
    "predicted=clfLin.predict(testX)\n",
    "score_linear=accuracy_score(testy,predicted)\n",
    "tok = time.perf_counter()\n",
    "linear_testing_time = tok - tik\n",
    "\n",
    "print(f\"Training finished in {linear_training_time:.3f} seconds,\")\n",
    "print(f\"Testing Finished in {linear_testing_time:.3f} seconds with accuracy of {score_linear:.3f}.\")"
   ]
  },
  {
   "cell_type": "markdown",
   "metadata": {},
   "source": [
    "### Train a Kernel SVM with the Gaussian Kernel on the training data and evaluate it on the testing data\n",
    "Use the tik-tok method to see how long the classifier takes to evaluate the $60000$ testing instances.\n",
    "\n",
    "Use the accuracy metric to judge the quality of your classifier.\n",
    "\n",
    "You may stick to the default parameters of sci-kit learn."
   ]
  },
  {
   "cell_type": "code",
   "execution_count": 40,
   "metadata": {},
   "outputs": [
    {
     "name": "stdout",
     "output_type": "stream",
     "text": [
      "Training finished in 8.030 seconds,\n",
      "Testing Finished in 116.627 seconds with accuracy of 0.956.\n"
     ]
    }
   ],
   "source": [
    "#Define the classifier\n",
    "clfKernel=svm.SVC(kernel='rbf')\n",
    "#Train it\n",
    "tik = time.perf_counter()\n",
    "clfKernel.fit(trainX, trainy)\n",
    "tok = time.perf_counter()\n",
    "rbf_training_time = tok - tik\n",
    "\n",
    "#Use it\n",
    "tik = time.perf_counter()\n",
    "predicted=clfKernel.predict(testX)\n",
    "score_rbf=accuracy_score(testy,predicted)\n",
    "tok = time.perf_counter()\n",
    "rbf_testing_time = tok - tik\n",
    "\n",
    "print(f\"Training finished in {rbf_training_time:.3f} seconds,\")\n",
    "print(f\"Testing Finished in {rbf_testing_time:.3f} seconds with accuracy of {score_rbf:.3f}.\")"
   ]
  },
  {
   "cell_type": "markdown",
   "metadata": {},
   "source": [
    "### *TO DO*: Use the following functions to implement Random Fourier Features\n",
    "\n",
    "You are here going to try to approximate the Gaussian kernel used in the second classfier.\n",
    "\n",
    "Use the first function to generate your $\\boldsymbol\\omega_i$ (using an appropriate distribution) and your $b_i$ (using appropriate distributions), this should return $D$ vectors $\\boldsymbol\\omega_i\\in\\mathbb R^d$ (in the form of a matrix for example) and $D$ values $b_i\\in[0,2\\pi]$. \n",
    "\n",
    "Use the second function to create the mapping $\\boldsymbol z(\\boldsymbol x)$ as described in the slides."
   ]
  },
  {
   "cell_type": "code",
   "execution_count": 41,
   "metadata": {},
   "outputs": [],
   "source": [
    "def generate_freq(D,std_dev,X_i_len):\n",
    "    # NB : the Gaussian kernel is shift-invariant as required, and its Fourier transform is given by the pdf of the Gaussian distribution\n",
    "    b = np.random.uniform(0,2*np.pi,D)\n",
    "    W = np.array([np.random.normal(0,std_dev,X_i_len) for i in range(D)])\n",
    "    return W,b\n",
    "\n",
    "def transform(X,W,b):\n",
    "    D = len(b)\n",
    "    Z = []\n",
    "    list_of_z = []\n",
    "    for i in range(len(X)):\n",
    "        z = np.sqrt(2/D) * np.array([np.cos(np.dot(W[j],X[i]) + b[j]) for j in range(D)])\n",
    "        list_of_z.append(z)\n",
    "    \"\"\"\n",
    "    for i in range(len(list_of_z)):\n",
    "        tmp = [np.dot(list_of_z[i],list_of_z[i])]\n",
    "        for j in range(i+1,len(list_of_z)):\n",
    "            tmp.append(np.dot(list_of_z[i],list_of_z[j]))\n",
    "\n",
    "        Z.append(np.array(tmp))\n",
    "    \n",
    "    return np.array(Z)\"\"\"\n",
    "    return np.array(list_of_z)\n",
    "\n",
    "def kernel_approx(Z):\n",
    "    K = Z.dot(Z.T)\n",
    "    \n",
    "    return np.array(K)\n"
   ]
  },
  {
   "cell_type": "markdown",
   "metadata": {},
   "source": [
    "### *TO DO*: Transform your trainX and testX\n",
    "\n",
    "Use the function you defined to transform your data.\n",
    "\n",
    "Make sure you only generate $\\boldsymbol W$ and $\\boldsymbol b$ once.\n",
    "\n",
    "Use a standard deviation of $\\frac{1}{100}$ et $D=300$ random features to start with. Watch out, in the original version of the homework it was specified that the variance was $\\frac{1}{100}$ but it must be the standard deviation instead.\n",
    "\n",
    "You may also use the tik-tok method to time the procedure of creating Random features."
   ]
  },
  {
   "cell_type": "code",
   "execution_count": 42,
   "metadata": {},
   "outputs": [
    {
     "name": "stdout",
     "output_type": "stream",
     "text": [
      "RFF transformation time : 65.397 seconds.\n"
     ]
    }
   ],
   "source": [
    "D = 300 #Number of sample vectors w_i\n",
    "sigma = 0.01 #Variance of distributon, shoud be std dev ?\n",
    "d = 28*28 #Original number of dimensions\n",
    "\n",
    "tik = time.perf_counter()\n",
    "W,b = generate_freq(D,sigma,len(trainX[0]))\n",
    "trainX_rff = transform(trainX,W,b)\n",
    "testX_rff = transform(testX,W,b)\n",
    "tok = time.perf_counter()\n",
    "rff_time = tok - tik\n",
    "print(f\"RFF transformation time : {rff_time:.3f} seconds.\")"
   ]
  },
  {
   "cell_type": "code",
   "execution_count": 43,
   "metadata": {},
   "outputs": [
    {
     "name": "stdout",
     "output_type": "stream",
     "text": [
      "Dimension of trainX after transformation : (10000, 300).\n",
      "Dimension of testX after transformation : (60000, 300).\n",
      "Dimension of trainX before transformation : (10000, 784).\n",
      "Dimension of testX before transformation : (60000, 784).\n"
     ]
    }
   ],
   "source": [
    "#Sanity check, do the dimensions of your transformations match your expectation?\n",
    "#Bear in mind that there are more instances in the test set than in the trianing set here\n",
    "print(f\"Dimension of trainX after transformation : {trainX_rff.shape}.\")\n",
    "print(f\"Dimension of testX after transformation : {testX_rff.shape}.\")\n",
    "\n",
    "print(f\"Dimension of trainX before transformation : {trainX.shape}.\")\n",
    "print(f\"Dimension of testX before transformation : {testX.shape}.\")"
   ]
  },
  {
   "cell_type": "markdown",
   "metadata": {},
   "source": [
    "### Use another linear SVM to classify the transformed data\n",
    "Now that the instances have been transformed, theory tells us that they are much more ameneable to linear classification than before."
   ]
  },
  {
   "cell_type": "code",
   "execution_count": 30,
   "metadata": {},
   "outputs": [
    {
     "name": "stdout",
     "output_type": "stream",
     "text": [
      "Training Finished in 2.244 seconds\n",
      "Testing Finished in 16.826 seconds with accuracy of 0.895\n"
     ]
    }
   ],
   "source": [
    "#Define the classifier\n",
    "clfRff = svm.SVC(kernel=\"linear\",C=np.inf)\n",
    "#clfRff = svm.SVC(kernel=\"rbf\",C=np.inf)\n",
    "\n",
    "#Train it\n",
    "tik = time.perf_counter()\n",
    "clfRff.fit(trainX_rff, trainy)\n",
    "tok = time.perf_counter() \n",
    "training_time_rff = tok - tik\n",
    "print(f\"Training Finished in {training_time_rff:.3f} seconds\")\n",
    "\n",
    "#Use it\n",
    "tik = time.perf_counter()\n",
    "predicted = clfRff.predict(testX_rff)\n",
    "score_rff = accuracy_score(testy,predicted)\n",
    "tok = time.perf_counter()\n",
    "testing_time_rff = tok - tik\n",
    "print(f\"Testing Finished in {testing_time_rff:.3f} seconds with accuracy of {score_rff:.3f}\")"
   ]
  },
  {
   "cell_type": "markdown",
   "metadata": {},
   "source": [
    "### Additional workspace "
   ]
  },
  {
   "cell_type": "markdown",
   "metadata": {},
   "source": [
    "Investigate the relationship between $D$ and the accuracy of the classifier."
   ]
  },
  {
   "cell_type": "code",
   "execution_count": null,
   "metadata": {},
   "outputs": [],
   "source": [
    "\"\"\"\n",
    "#Define a vector to store the accuracy values you will get\n",
    "accuracy = []\n",
    "time_tf = []\n",
    "time_fit = []\n",
    "time_pred = []\n",
    "sigma = 0.01\n",
    "#Define for which values of D you want to test the RFF\n",
    "#maybe time some operations in the loop as well to see the RFF classifier becomes too slow as D grows\n",
    "for i in [20,100,500,1000]:\n",
    "    print(f\"For D = {i} :\")\n",
    "    clfRff = svm.SVC(kernel=\"linear\")\n",
    "    D = i\n",
    "    tik = time.perf_counter()\n",
    "    W,b = generate_freq(D,sigma,len(trainX[0]))\n",
    "    trainX_rff = transform(trainX,W,b)\n",
    "    testX_rff = transform(testX,W,b)\n",
    "    tok = time.perf_counter()\n",
    "    time_tf.append(tok-tik)\n",
    "    \n",
    "    #Train and evaluate a linear classifier\n",
    "    tik = time.perf_counter()\n",
    "    clfRff.fit(trainX_rff, trainy)\n",
    "    tok = time.perf_counter() \n",
    "    training_time_rff = tok - tik\n",
    "    time_fit.append(tok-tik)\n",
    "    print(f\"Training Finished in {training_time_rff:.3f} seconds\")\n",
    "\n",
    "    \n",
    "\n",
    "    tik = time.perf_counter()\n",
    "    predicted = clfRff.predict(testX_rff)\n",
    "    acc = accuracy_score(testy,predicted)\n",
    "    tok = time.perf_counter()\n",
    "    testing_time_rff = tok - tik\n",
    "    time_pred.append(tok-tik)\n",
    "    print(f\"Testing Finished in {testing_time_rff:.3f} seconds with accuracy of {acc:.3f}\")\n",
    "    accuracy.append(acc)\n",
    "\n",
    "print(accuracy)\n",
    "print(time_tf)\n",
    "print(time_fit)\n",
    "print(time_pred)\"\"\"\n"
   ]
  },
  {
   "cell_type": "markdown",
   "metadata": {},
   "source": [
    "### Don't forget to add plots and other nice things"
   ]
  },
  {
   "cell_type": "code",
   "execution_count": 32,
   "metadata": {},
   "outputs": [
    {
     "name": "stdout",
     "output_type": "stream",
     "text": [
      "For D = 20 :\n",
      "Training Finished in 2.155 seconds\n",
      "Testing Finished in 13.390 seconds with accuracy of 0.561\n",
      "For D = 100 :\n",
      "Training Finished in 1.876 seconds\n",
      "Testing Finished in 13.728 seconds with accuracy of 0.837\n",
      "For D = 200 :\n",
      "Training Finished in 1.877 seconds\n",
      "Testing Finished in 16.394 seconds with accuracy of 0.900\n",
      "For D = 300 :\n",
      "Training Finished in 2.519 seconds\n",
      "Testing Finished in 27.599 seconds with accuracy of 0.918\n",
      "For D = 400 :\n",
      "Training Finished in 3.518 seconds\n",
      "Testing Finished in 36.002 seconds with accuracy of 0.924\n",
      "For D = 500 :\n",
      "Training Finished in 4.016 seconds\n",
      "Testing Finished in 43.216 seconds with accuracy of 0.930\n",
      "For D = 600 :\n",
      "Training Finished in 6.212 seconds\n",
      "Testing Finished in 53.005 seconds with accuracy of 0.936\n",
      "For D = 700 :\n",
      "Training Finished in 6.310 seconds\n",
      "Testing Finished in 60.910 seconds with accuracy of 0.939\n",
      "For D = 800 :\n",
      "Training Finished in 7.435 seconds\n",
      "Testing Finished in 68.872 seconds with accuracy of 0.938\n",
      "For D = 900 :\n",
      "Training Finished in 8.556 seconds\n",
      "Testing Finished in 77.005 seconds with accuracy of 0.942\n",
      "For D = 1000 :\n",
      "Training Finished in 8.833 seconds\n",
      "Testing Finished in 86.886 seconds with accuracy of 0.943\n",
      "[0.5614166666666667, 0.8369833333333333, 0.9001166666666667, 0.91845, 0.92435, 0.92965, 0.9361, 0.9394666666666667, 0.9379333333333333, 0.9416166666666667, 0.9425333333333333]\n",
      "[5.0383443999962765, 23.164375699998345, 44.679327599995304, 64.89836890000151, 88.73345080000581, 110.34723600000143, 132.08261420000053, 153.79298689999996, 176.0674680000011, 196.995857599999, 218.35668859999714]\n",
      "[2.155081999997492, 1.876469899994845, 1.8769839999949909, 2.5186283999937586, 3.5176840999993146, 4.015670900000259, 6.211852100001124, 6.309836599997652, 7.434506999998121, 8.556049999999232, 8.832511799999338]\n",
      "[13.390382699995826, 13.72819690000324, 16.394100800003798, 27.59888769999816, 36.00227840000298, 43.216009399999166, 53.00514580000163, 60.91017350000038, 68.87203880000015, 77.00529349999852, 86.88626029999432]\n"
     ]
    }
   ],
   "source": [
    "\n",
    "#Define a vector to store the accuracy values you will get\n",
    "accuracy = []\n",
    "time_tf = []\n",
    "time_fit = []\n",
    "time_pred = []\n",
    "sigma = 0.01\n",
    "#Define for which values of D you want to test the RFF\n",
    "#maybe time some operations in the loop as well to see the RFF classifier becomes too slow as D grows\n",
    "for i in ([20]+list(range(100,1001,100))):\n",
    "    print(f\"For D = {i} :\")\n",
    "    clfRff = svm.SVC(kernel=\"linear\")\n",
    "    D = i\n",
    "    tik = time.perf_counter()\n",
    "    W,b = generate_freq(D,sigma,len(trainX[0]))\n",
    "    trainX_rff = transform(trainX,W,b)\n",
    "    testX_rff = transform(testX,W,b)\n",
    "    tok = time.perf_counter()\n",
    "    time_tf.append(tok-tik)\n",
    "    \n",
    "    #Train and evaluate a linear classifier\n",
    "    tik = time.perf_counter()\n",
    "    clfRff.fit(trainX_rff, trainy)\n",
    "    tok = time.perf_counter() \n",
    "    training_time_rff = tok - tik\n",
    "    time_fit.append(tok-tik)\n",
    "    print(f\"Training Finished in {training_time_rff:.3f} seconds\")\n",
    "\n",
    "    \n",
    "\n",
    "    tik = time.perf_counter()\n",
    "    predicted = clfRff.predict(testX_rff)\n",
    "    acc = accuracy_score(testy,predicted)\n",
    "    tok = time.perf_counter()\n",
    "    testing_time_rff = tok - tik\n",
    "    time_pred.append(tok-tik)\n",
    "    print(f\"Testing Finished in {testing_time_rff:.3f} seconds with accuracy of {acc:.3f}\")\n",
    "    accuracy.append(acc)\n",
    "\n",
    "print(accuracy)\n",
    "print(time_tf)\n",
    "print(time_fit)\n",
    "print(time_pred)"
   ]
  },
  {
   "cell_type": "code",
   "execution_count": 33,
   "metadata": {},
   "outputs": [
    {
     "data": {
      "image/png": "[encoded data removed]",
      "text/plain": [
       "<Figure size 640x480 with 1 Axes>"
      ]
     },
     "metadata": {},
     "output_type": "display_data"
    },
    {
     "data": {
      "image/png": "[encoded data removed]",
      "text/plain": [
       "<Figure size 640x480 with 1 Axes>"
      ]
     },
     "metadata": {},
     "output_type": "display_data"
    }
   ],
   "source": [
    "pyplot.plot([20]+list(range(100,1001,100)),accuracy,color='red',label='linear SVM with RFF')\n",
    "pyplot.xlabel(\"Number of random features (=D)\")\n",
    "pyplot.ylabel(\"Accuracy\")\n",
    "pyplot.legend()\n",
    "pyplot.savefig(\"acc_function_D.pdf\")\n",
    "pyplot.show()\n",
    "\n",
    "pyplot.plot([20]+list(range(100,1001,100)),time_tf,label='RFF transformation')\n",
    "pyplot.plot([20]+list(range(100,1001,100)),time_fit,label='time for fitting')\n",
    "pyplot.plot([20]+list(range(100,1001,100)),time_pred,label='time for evaluating')\n",
    "pyplot.ylabel(\"Time[s]\")\n",
    "pyplot.xlabel(\"Number of random features (=D)\")\n",
    "pyplot.legend()\n",
    "pyplot.savefig(\"time_function_D.pdf\")\n",
    "\n",
    "pyplot.show()\n",
    "\n",
    "\n"
   ]
  },
  {
   "cell_type": "code",
   "execution_count": null,
   "metadata": {},
   "outputs": [],
   "source": []
  },
  {
   "cell_type": "code",
   "execution_count": null,
   "metadata": {},
   "outputs": [],
   "source": []
  },
  {
   "cell_type": "code",
   "execution_count": null,
   "metadata": {},
   "outputs": [],
   "source": []
  },
  {
   "cell_type": "code",
   "execution_count": null,
   "metadata": {},
   "outputs": [],
   "source": []
  },
  {
   "cell_type": "code",
   "execution_count": null,
   "metadata": {},
   "outputs": [],
   "source": []
  },
  {
   "cell_type": "code",
   "execution_count": null,
   "metadata": {},
   "outputs": [],
   "source": []
  },
  {
   "cell_type": "code",
   "execution_count": null,
   "metadata": {},
   "outputs": [],
   "source": []
  },
  {
   "cell_type": "code",
   "execution_count": null,
   "metadata": {},
   "outputs": [],
   "source": []
  },
  {
   "cell_type": "code",
   "execution_count": null,
   "metadata": {},
   "outputs": [],
   "source": []
  },
  {
   "cell_type": "code",
   "execution_count": null,
   "metadata": {},
   "outputs": [],
   "source": []
  },
  {
   "cell_type": "markdown",
   "metadata": {},
   "source": [
    "### Good luck =D"
   ]
  },
  {
   "cell_type": "code",
   "execution_count": null,
   "metadata": {},
   "outputs": [],
   "source": []
  }
 ],
 "metadata": {
  "kernelspec": {
   "display_name": "Python 3 (ipykernel)",
   "language": "python",
   "name": "python3"
  },
  "language_info": {
   "codemirror_mode": {
    "name": "ipython",
    "version": 3
   },
   "file_extension": ".py",
   "mimetype": "text/x-python",
   "name": "python",
   "nbconvert_exporter": "python",
   "pygments_lexer": "ipython3",
   "version": "3.8.8"
  },
  "vscode": {
   "interpreter": {
    "hash": "916dbcbb3f70747c44a77c7bcd40155683ae19c65e1c03b4aa3499c5328201f1"
   }
  }
 },
 "nbformat": 4,
 "nbformat_minor": 4
}
