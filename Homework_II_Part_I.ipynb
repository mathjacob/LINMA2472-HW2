{
 "cells": [
  {
   "cell_type": "code",
   "execution_count": 2,
   "id": "c9e3a924",
   "metadata": {},
   "outputs": [],
   "source": [
    "# note Grakel does not seem to support Python >=3.10, Python 3.9 works fine\n",
    "# you are free to remove imports that are not useful for you\n",
    "from grakel.datasets import fetch_dataset\n",
    "from grakel.kernels import WeisfeilerLehman, VertexHistogram\n",
    "from sklearn.model_selection import train_test_split,cross_val_score\n",
    "from sklearn.svm import SVC\n",
    "from sklearn.metrics import accuracy_score\n",
    "from sklearn.decomposition import KernelPCA # to check your own implementation\n",
    "from sklearn.manifold import TSNE\n",
    "import numpy as np\n",
    "import scipy\n",
    "import matplotlib.pyplot as plt\n",
    "import math"
   ]
  },
  {
   "cell_type": "code",
   "execution_count": 3,
   "id": "195a11e7",
   "metadata": {},
   "outputs": [],
   "source": [
    "# Some datasets, more datasets here https://ls11-www.cs.tu-dortmund.de/staff/morris/graphkerneldatasets\n",
    "\n",
    "\"\"\"\n",
    "    The MUTAG dataset consists of 188 chemical compounds divided into two \n",
    "    classes according to their mutagenic effect on a bacterium. \n",
    "\n",
    "    The chemical data was obtained form http://cdb.ics.uci.edu and converted \n",
    "    to graphs, where vertices represent atoms and edges represent chemical \n",
    "    bonds. Explicit hydrogen atoms have been removed and vertices are labeled\n",
    "    by atom type and edges by bond type (single, double, triple or aromatic).\n",
    "    Chemical data was processed using the Chemistry Development Kit (v1.4).\n",
    "\"\"\"\n",
    "\n",
    "\"\"\"\n",
    "    ENZYMES is a dataset of protein tertiary structures obtained from (Borgwardt et al., 2005) \n",
    "    consisting of 600 enzymes from the BRENDA enzyme database (Schomburg et al., 2004). \n",
    "    In this case the task is to correctly assign each enzyme to one of the 6 EC top-level \n",
    "    classes. \n",
    "\"\"\"\n",
    "\n",
    "\"\"\"\n",
    "    NCI1 and NCI109 represent two balanced subsets of datasets of chemical compounds screened \n",
    "    for activity against non-small cell lung cancer and ovarian cancer cell lines respectively\n",
    "    (Wale and Karypis (2006) and http://pubchem.ncbi.nlm.nih.gov).\n",
    "\"\"\"\n",
    "\n",
    "dataset = fetch_dataset(\"MUTAG\", verbose=False) # just replace by the name of the datasets you want \"ENZYMES\", \"NCI1\"\n",
    "G = dataset.data   # NB : this is a list of graphs, represented by dictionaries : first entry is an adjacency matrix, second are the node labels\n",
    "y = dataset.target\n",
    "\n",
    "\n",
    "dataset_MUT = fetch_dataset(\"MUTAG\", verbose=False)\n",
    "G_MUT = dataset_MUT.data\n",
    "y_MUT = dataset_MUT.target\n",
    "\n",
    "dataset_ENZ = fetch_dataset(\"ENZYMES\", verbose=False)\n",
    "G_ENZ = dataset_ENZ.data\n",
    "y_ENZ = dataset_ENZ.target\n",
    "\n",
    "dataset_NCI = fetch_dataset(\"NCI1\", verbose=False)\n",
    "G_NCI = dataset_NCI.data\n",
    "y_NCI = dataset_NCI.target"
   ]
  },
  {
   "cell_type": "code",
   "execution_count": 12,
   "id": "0db4cd6e",
   "metadata": {},
   "outputs": [
    {
     "name": "stdout",
     "output_type": "stream",
     "text": [
      "[[ 467  267  333 ...  455  397  424]\n",
      " [ 267  718  288 ...  755  671  652]\n",
      " [ 333  288  935 ...  482  429  446]\n",
      " ...\n",
      " [ 455  755  482 ... 1929 1231 1216]\n",
      " [ 397  671  429 ... 1231 1402 1020]\n",
      " [ 424  652  446 ... 1216 1020 1673]]\n"
     ]
    }
   ],
   "source": [
    "# Computing the pairwise kernels between all graphs in the dataset, for each of the 3 datasets\n",
    "gk = WeisfeilerLehman(n_iter=10, base_graph_kernel=VertexHistogram)   # n_iter=10 (parameter H) chosen arbitrarily, to coincide with question 4.1.4\n",
    "K_MUT = gk.fit_transform(G_MUT)\n",
    "K_ENZ = gk.fit_transform(G_ENZ)\n",
    "K_NCI = gk.fit_transform(G_NCI)\n",
    "\n",
    "print(K_NCI)"
   ]
  },
  {
   "cell_type": "code",
   "execution_count": 13,
   "id": "5a2fc9b2",
   "metadata": {},
   "outputs": [
    {
     "name": "stdout",
     "output_type": "stream",
     "text": [
      "MUTAG : kernel matrix rank : 175, number of samples : 188\n",
      "ENZYMES : kernel matrix rank : 595, number of samples : 600\n",
      "NCI1 : kernel matrix rank : 4002, number of samples : 4110\n"
     ]
    }
   ],
   "source": [
    "# Computing the rank of the WL subtree kernel matrix for all three datasets, and H=10 iterations\n",
    "from numpy.linalg import matrix_rank\n",
    "# NB : if n_iter has been changed from 10 in the previous cell, the kernel matrices need to be recomputed with n_iter=10 here !\n",
    "print(\"MUTAG : kernel matrix rank : \" + str(matrix_rank(K_MUT)) + \", number of samples : \" + str(len(G_MUT)))\n",
    "print(\"ENZYMES : kernel matrix rank : \" + str(matrix_rank(K_ENZ)) + \", number of samples : \" + str(len(G_ENZ)))\n",
    "print(\"NCI1 : kernel matrix rank : \" + str(matrix_rank(K_NCI)) + \", number of samples : \" + str(len(G_NCI)))"
   ]
  },
  {
   "cell_type": "code",
   "execution_count": null,
   "id": "cb4a360b",
   "metadata": {},
   "outputs": [],
   "source": []
  },
  {
   "cell_type": "code",
   "execution_count": null,
   "id": "2244d310",
   "metadata": {},
   "outputs": [],
   "source": []
  }
 ],
 "metadata": {
  "kernelspec": {
   "display_name": "Python 3 (ipykernel)",
   "language": "python",
   "name": "python3"
  },
  "language_info": {
   "codemirror_mode": {
    "name": "ipython",
    "version": 3
   },
   "file_extension": ".py",
   "mimetype": "text/x-python",
   "name": "python",
   "nbconvert_exporter": "python",
   "pygments_lexer": "ipython3",
   "version": "3.8.8"
  }
 },
 "nbformat": 4,
 "nbformat_minor": 5
}
